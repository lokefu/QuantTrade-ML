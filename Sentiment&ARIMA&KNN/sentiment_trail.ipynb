{
 "cells": [
  {
   "cell_type": "markdown",
   "metadata": {},
   "source": [
    "A ticker is simply the stock code. Dates are in YY/MM/DD format. random_news (r) specifies the number of news articles you want to randomly scrape from the website for a given stock on a given date. top_news (t) specifies the number of news articles you want to use for sentiment analysis, selected from all of the randomly scraped news articles for a given stock on a given date. previous_dates (n) specifies the number of previous days before the current day you want scratch news to use for sentiment analysis."
   ]
  },
  {
   "cell_type": "code",
   "execution_count": 1,
   "metadata": {},
   "outputs": [
    {
     "name": "stderr",
     "output_type": "stream",
     "text": [
      "/Library/Frameworks/Python.framework/Versions/3.10/lib/python3.10/site-packages/tqdm/auto.py:21: TqdmWarning: IProgress not found. Please update jupyter and ipywidgets. See https://ipywidgets.readthedocs.io/en/stable/user_install.html\n",
      "  from .autonotebook import tqdm as notebook_tqdm\n",
      "Xformers is not installed correctly. If you want to use memory_efficient_attention to accelerate training use the following command to install Xformers\n",
      "pip install xformers.\n"
     ]
    },
    {
     "name": "stdout",
     "output_type": "stream",
     "text": [
      "dates considered: ['2023/07/12', '2023/07/11', '2023/07/10', '2023/07/09', '2023/07/08']\n",
      "number of random news: 13\n",
      "number of top news: 20\n",
      "total score: 19.995157957077026\n",
      "average score: 0.9997578978538513\n"
     ]
    },
    {
     "data": {
      "text/plain": [
       "'positive'"
      ]
     },
     "execution_count": 1,
     "metadata": {},
     "output_type": "execute_result"
    }
   ],
   "source": [
    "from sentiment import score_with_previous_n_dates\n",
    "from sentiment import score_to_label\n",
    "\n",
    "ticker = 'TSLA' #string\n",
    "date = '2023/07/13' #string\n",
    "r = 50 #int\n",
    "t = 20 #int\n",
    "n = 5 #int\n",
    "\n",
    "label = score_to_label(score_with_previous_n_dates(ticker, date, r, t, n))\n",
    "label"
   ]
  }
 ],
 "metadata": {
  "kernelspec": {
   "display_name": "Python 3",
   "language": "python",
   "name": "python3"
  },
  "language_info": {
   "codemirror_mode": {
    "name": "ipython",
    "version": 3
   },
   "file_extension": ".py",
   "mimetype": "text/x-python",
   "name": "python",
   "nbconvert_exporter": "python",
   "pygments_lexer": "ipython3",
   "version": "3.10.6"
  },
  "orig_nbformat": 4
 },
 "nbformat": 4,
 "nbformat_minor": 2
}
