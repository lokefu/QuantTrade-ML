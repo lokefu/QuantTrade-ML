{
 "cells": [
  {
   "cell_type": "code",
   "execution_count": 1,
   "metadata": {},
   "outputs": [
    {
     "name": "stderr",
     "output_type": "stream",
     "text": [
      "Using TensorFlow backend.\n",
      "c:\\Users\\him19\\anaconda3\\envs\\7409\\lib\\site-packages\\statsmodels\\tools\\_testing.py:19: FutureWarning: pandas.util.testing is deprecated. Use the functions in the public API at pandas.testing instead.\n",
      "  import pandas.util.testing as tm\n"
     ]
    }
   ],
   "source": [
    "from keras.optimizers import Adam\n",
    "import matplotlib.pyplot as plt\n",
    "import pandas as pd\n",
    "import numpy as np\n",
    "from sklearn import metrics\n",
    "from utils import *\n",
    "from model2 import *\n"
   ]
  },
  {
   "cell_type": "code",
   "execution_count": 9,
   "metadata": {},
   "outputs": [],
   "source": [
    "\n",
    "\n",
    "\n",
    "\n",
    "\n",
    "\n",
    "#data1 = pd.read_csv('./^SPX2.csv')\n",
    "data1 = pd.read_csv('./^SPX.csv')\n",
    "data1.index = pd.to_datetime(data1['Date'], format='%Y-%m-%d') \n",
    "#data1 = data1.drop(['ts_code', 'trade_date', 'turnover_rate', 'volume_ratio', 'pb', 'total_share', 'float_share', 'free_share'], axis=1)\n",
    "data1 = data1.loc[:, ['Open', 'High', 'Low', 'Close', 'Adj Close', 'Volume']]\n",
    "data_all = data1\n",
    "residuals = pd.read_csv('./ARIMA_residuals(svx).csv')\n",
    "residuals.index = pd.to_datetime(residuals['Date'])\n",
    "residuals.pop('Date')\n",
    "data1 = pd.merge(data1, residuals, on='Date')\n",
    "#data = data1.iloc[21098:23878, :] \n",
    "#data2 = data1.iloc[23878:23998, :] \n",
    "#train_data = data1.iloc[1:2780, :] \n",
    "#test_data = data1.iloc[2780:, :] \n",
    "train_data = data1.iloc[18000:21439, :] \n",
    "test_data = data1.iloc[21439:, :] "
   ]
  },
  {
   "cell_type": "code",
   "execution_count": 10,
   "metadata": {},
   "outputs": [
    {
     "name": "stdout",
     "output_type": "stream",
     "text": [
      "(7, 2)\n",
      "(3418, 20, 7) (3418, 1)\n"
     ]
    }
   ],
   "source": [
    "TIME_STEPS = 20\n",
    "\n",
    "#train_data=np.array(train_data)\n",
    "train_data, normalize = NormalizeMult(train_data)\n",
    "#print('#', normalize)\n",
    "pollution_data = train_data[:, 3].reshape(len(train_data), 1)\n",
    "\n",
    "train_X, _ = create_dataset(train_data, TIME_STEPS)\n",
    "_, train_Y = create_dataset(np.array(pollution_data), TIME_STEPS)\n",
    "\n",
    "print(train_X.shape, train_Y.shape)\n"
   ]
  },
  {
   "cell_type": "code",
   "execution_count": 4,
   "metadata": {},
   "outputs": [
    {
     "name": "stdout",
     "output_type": "stream",
     "text": [
      "wwwwwww\n",
      "Model: \"model_1\"\n",
      "_________________________________________________________________\n",
      "Layer (type)                 Output Shape              Param #   \n",
      "=================================================================\n",
      "input_1 (InputLayer)         (None, 20, 7)             0         \n",
      "_________________________________________________________________\n",
      "conv1d_1 (Conv1D)            (None, 20, 64)            512       \n",
      "_________________________________________________________________\n",
      "dropout_1 (Dropout)          (None, 20, 64)            0         \n",
      "_________________________________________________________________\n",
      "bidirectional_1 (Bidirection (None, 20, 128)           66048     \n",
      "_________________________________________________________________\n",
      "dropout_2 (Dropout)          (None, 20, 128)           0         \n",
      "_________________________________________________________________\n",
      "flatten_1 (Flatten)          (None, 2560)              0         \n",
      "_________________________________________________________________\n",
      "dense_1 (Dense)              (None, 1)                 2561      \n",
      "=================================================================\n",
      "Total params: 69,121\n",
      "Trainable params: 69,121\n",
      "Non-trainable params: 0\n",
      "_________________________________________________________________\n",
      "Train on 3076 samples, validate on 342 samples\n",
      "Epoch 1/50\n",
      "3076/3076 [==============================] - 3s 1ms/step - loss: 0.0057 - val_loss: 0.0011\n",
      "Epoch 2/50\n",
      "3076/3076 [==============================] - 2s 610us/step - loss: 0.0014 - val_loss: 0.0037\n",
      "Epoch 3/50\n",
      "3076/3076 [==============================] - 2s 613us/step - loss: 0.0014 - val_loss: 0.0011\n",
      "Epoch 4/50\n",
      "3076/3076 [==============================] - 2s 613us/step - loss: 0.0012 - val_loss: 0.0028\n",
      "Epoch 5/50\n",
      "3076/3076 [==============================] - 2s 668us/step - loss: 0.0010 - val_loss: 0.0020\n",
      "Epoch 6/50\n",
      "3076/3076 [==============================] - 2s 719us/step - loss: 9.0797e-04 - val_loss: 7.3510e-04\n",
      "Epoch 7/50\n",
      "3076/3076 [==============================] - 2s 717us/step - loss: 7.9046e-04 - val_loss: 7.3797e-04\n",
      "Epoch 8/50\n",
      "3076/3076 [==============================] - 2s 810us/step - loss: 7.9194e-04 - val_loss: 7.5391e-04\n",
      "Epoch 9/50\n",
      "3076/3076 [==============================] - 2s 723us/step - loss: 7.7366e-04 - val_loss: 0.0011\n",
      "Epoch 10/50\n",
      "3076/3076 [==============================] - 2s 729us/step - loss: 7.8517e-04 - val_loss: 7.4966e-04\n",
      "Epoch 11/50\n",
      "3076/3076 [==============================] - 2s 702us/step - loss: 8.8336e-04 - val_loss: 0.0013\n",
      "Epoch 12/50\n",
      "3076/3076 [==============================] - 2s 718us/step - loss: 7.8372e-04 - val_loss: 5.4011e-04\n",
      "Epoch 13/50\n",
      "3076/3076 [==============================] - 2s 717us/step - loss: 6.8719e-04 - val_loss: 0.0011\n",
      "Epoch 14/50\n",
      "3076/3076 [==============================] - 2s 704us/step - loss: 6.5152e-04 - val_loss: 6.9483e-04\n",
      "Epoch 15/50\n",
      "3076/3076 [==============================] - 2s 722us/step - loss: 7.2641e-04 - val_loss: 0.0011\n",
      "Epoch 16/50\n",
      "3076/3076 [==============================] - 2s 713us/step - loss: 7.1548e-04 - val_loss: 5.2263e-04\n",
      "Epoch 17/50\n",
      "3076/3076 [==============================] - 2s 702us/step - loss: 6.9822e-04 - val_loss: 0.0013\n",
      "Epoch 18/50\n",
      "3076/3076 [==============================] - 2s 705us/step - loss: 6.4600e-04 - val_loss: 9.7952e-04\n",
      "Epoch 19/50\n",
      "3076/3076 [==============================] - 2s 714us/step - loss: 5.9626e-04 - val_loss: 0.0010\n",
      "Epoch 20/50\n",
      "3076/3076 [==============================] - 2s 706us/step - loss: 6.8645e-04 - val_loss: 0.0014\n",
      "Epoch 21/50\n",
      "3076/3076 [==============================] - 2s 708us/step - loss: 6.0863e-04 - val_loss: 9.6216e-04\n",
      "Epoch 22/50\n",
      "3076/3076 [==============================] - 2s 713us/step - loss: 7.6724e-04 - val_loss: 4.3304e-04\n",
      "Epoch 23/50\n",
      "3076/3076 [==============================] - 2s 710us/step - loss: 6.2348e-04 - val_loss: 6.8165e-04\n",
      "Epoch 24/50\n",
      "3076/3076 [==============================] - 2s 700us/step - loss: 6.1619e-04 - val_loss: 5.1706e-04\n",
      "Epoch 25/50\n",
      "3076/3076 [==============================] - 2s 716us/step - loss: 7.5900e-04 - val_loss: 4.5616e-04\n",
      "Epoch 26/50\n",
      "3076/3076 [==============================] - 2s 715us/step - loss: 5.2959e-04 - val_loss: 5.2951e-04\n",
      "Epoch 27/50\n",
      "3076/3076 [==============================] - 2s 711us/step - loss: 5.6457e-04 - val_loss: 4.9208e-04\n",
      "Epoch 28/50\n",
      "3076/3076 [==============================] - 2s 701us/step - loss: 5.9102e-04 - val_loss: 4.9066e-04\n",
      "Epoch 29/50\n",
      "3076/3076 [==============================] - 2s 709us/step - loss: 5.9190e-04 - val_loss: 5.7371e-04\n",
      "Epoch 30/50\n",
      "3076/3076 [==============================] - 2s 713us/step - loss: 6.2444e-04 - val_loss: 4.5841e-04\n",
      "Epoch 31/50\n",
      "3076/3076 [==============================] - 2s 700us/step - loss: 5.4655e-04 - val_loss: 4.1158e-04\n",
      "Epoch 32/50\n",
      "3076/3076 [==============================] - 2s 684us/step - loss: 5.9317e-04 - val_loss: 3.8295e-04\n",
      "Epoch 33/50\n",
      "3076/3076 [==============================] - 2s 682us/step - loss: 4.9935e-04 - val_loss: 4.5077e-04\n",
      "Epoch 34/50\n",
      "3076/3076 [==============================] - 2s 693us/step - loss: 5.8388e-04 - val_loss: 6.7568e-04\n",
      "Epoch 35/50\n",
      "3076/3076 [==============================] - 2s 705us/step - loss: 5.4496e-04 - val_loss: 5.0608e-04\n",
      "Epoch 36/50\n",
      "3076/3076 [==============================] - 2s 679us/step - loss: 5.4260e-04 - val_loss: 9.4391e-04\n",
      "Epoch 37/50\n",
      "3076/3076 [==============================] - 2s 678us/step - loss: 5.9961e-04 - val_loss: 4.4441e-04\n",
      "Epoch 38/50\n",
      "3076/3076 [==============================] - 2s 698us/step - loss: 5.5546e-04 - val_loss: 0.0020\n",
      "Epoch 39/50\n",
      "3076/3076 [==============================] - 2s 695us/step - loss: 5.5904e-04 - val_loss: 0.0014\n",
      "Epoch 40/50\n",
      "3076/3076 [==============================] - 2s 708us/step - loss: 5.8038e-04 - val_loss: 4.2070e-04\n",
      "Epoch 41/50\n",
      "3076/3076 [==============================] - 2s 698us/step - loss: 4.5523e-04 - val_loss: 0.0016\n",
      "Epoch 42/50\n",
      "3076/3076 [==============================] - 2s 698us/step - loss: 5.1852e-04 - val_loss: 4.1179e-04\n",
      "Epoch 43/50\n",
      "3076/3076 [==============================] - 2s 713us/step - loss: 4.9460e-04 - val_loss: 5.8867e-04\n",
      "Epoch 44/50\n",
      "3076/3076 [==============================] - 2s 707us/step - loss: 5.2396e-04 - val_loss: 3.8911e-04\n",
      "Epoch 45/50\n",
      "3076/3076 [==============================] - 2s 708us/step - loss: 5.6397e-04 - val_loss: 0.0010\n",
      "Epoch 46/50\n",
      "3076/3076 [==============================] - 2s 699us/step - loss: 5.1042e-04 - val_loss: 3.5112e-04\n",
      "Epoch 47/50\n",
      "3076/3076 [==============================] - 2s 685us/step - loss: 4.9224e-04 - val_loss: 5.0084e-04\n",
      "Epoch 48/50\n",
      "3076/3076 [==============================] - 2s 706us/step - loss: 4.7425e-04 - val_loss: 3.9163e-04\n",
      "Epoch 49/50\n",
      "3076/3076 [==============================] - 2s 695us/step - loss: 5.0488e-04 - val_loss: 0.0016\n",
      "Epoch 50/50\n",
      "3076/3076 [==============================] - 2s 714us/step - loss: 5.1366e-04 - val_loss: 3.7446e-04\n"
     ]
    }
   ],
   "source": [
    "m = attention_model(INPUT_DIMS=7)\n",
    "m.summary() \n",
    "adam = Adam(learning_rate=0.01)\n",
    "m.compile(optimizer=adam, loss='mse') \n",
    "history = m.fit([train_X], train_Y, epochs=50, batch_size=32, validation_split=0.1)\n",
    "m.save(\"./stock_model.h5\")\n",
    "#np.save(\"stock_normalize.npy\", normalize)"
   ]
  },
  {
   "cell_type": "code",
   "execution_count": 11,
   "metadata": {},
   "outputs": [
    {
     "data": {
      "image/png": "[encoded data removed]",
      "text/plain": [
       "<Figure size 432x288 with 1 Axes>"
      ]
     },
     "metadata": {
      "needs_background": "light"
     },
     "output_type": "display_data"
    }
   ],
   "source": [
    "plt.plot(history.history['loss'], label='Training Loss')\n",
    "plt.plot(history.history['val_loss'], label='Validation Loss')\n",
    "plt.title('Training and Validation Loss')\n",
    "plt.legend()\n",
    "plt.show()"
   ]
  },
  {
   "cell_type": "code",
   "execution_count": 12,
   "metadata": {},
   "outputs": [
    {
     "name": "stdout",
     "output_type": "stream",
     "text": [
      "(7, 2)\n",
      "# 1577.52002\n",
      "(2537, 20, 7) (2537, 1)\n"
     ]
    }
   ],
   "source": [
    "test_data, normalize = NormalizeMult(test_data)\n",
    "print('#', normalize[0,0])\n",
    "pollution_data = test_data[:, 3].reshape(len(test_data), 1)\n",
    "\n",
    "test_X, _ = create_dataset(test_data, TIME_STEPS)\n",
    "_, test_Y = create_dataset(pollution_data, TIME_STEPS)\n",
    "\n",
    "print(test_X.shape, test_Y.shape)"
   ]
  },
  {
   "cell_type": "code",
   "execution_count": 13,
   "metadata": {},
   "outputs": [],
   "source": [
    "class Config:\n",
    "    def __init__(self):\n",
    "        self.dimname = 'Close'\n",
    "\n",
    "config = Config()\n",
    "name = config.dimname\n",
    "# normalize = np.load(\"normalize.npy\")\n",
    "#y_hat, y_test = PredictWithData(data2, data_yuan, name,m, 'stock_model.h5',7)\n"
   ]
  },
  {
   "cell_type": "code",
   "execution_count": 14,
   "metadata": {},
   "outputs": [
    {
     "ename": "AttributeError",
     "evalue": "'numpy.ndarray' object has no attribute 'columns'",
     "output_type": "error",
     "traceback": [
      "\u001b[1;31m---------------------------------------------------------------------------\u001b[0m",
      "\u001b[1;31mAttributeError\u001b[0m                            Traceback (most recent call last)",
      "\u001b[1;32m<ipython-input-14-0935cddfd4e0>\u001b[0m in \u001b[0;36m<module>\u001b[1;34m\u001b[0m\n\u001b[1;32m----> 1\u001b[1;33m \u001b[0my_hat\u001b[0m\u001b[1;33m,\u001b[0m \u001b[0my_test\u001b[0m \u001b[1;33m=\u001b[0m \u001b[0mPredictWithData\u001b[0m\u001b[1;33m(\u001b[0m\u001b[0mtest_data\u001b[0m\u001b[1;33m,\u001b[0m \u001b[0mdata_all\u001b[0m \u001b[1;33m,\u001b[0m \u001b[0mname\u001b[0m\u001b[1;33m,\u001b[0m\u001b[0mm\u001b[0m\u001b[1;33m,\u001b[0m \u001b[1;34m'stock_model.h5'\u001b[0m\u001b[1;33m,\u001b[0m\u001b[1;36m7\u001b[0m\u001b[1;33m)\u001b[0m\u001b[1;33m\u001b[0m\u001b[1;33m\u001b[0m\u001b[0m\n\u001b[0m",
      "\u001b[1;32md:\\chaos\\Attention-CLX-stock-prediction-main\\Attention-CLX-stock-prediction-main\\model2.py\u001b[0m in \u001b[0;36mPredictWithData\u001b[1;34m(data, data_yuan, name, model, modelname, INPUT_DIMS, TIME_STEPS)\u001b[0m\n\u001b[0;32m     61\u001b[0m \u001b[1;33m\u001b[0m\u001b[0m\n\u001b[0;32m     62\u001b[0m \u001b[1;32mdef\u001b[0m \u001b[0mPredictWithData\u001b[0m\u001b[1;33m(\u001b[0m\u001b[0mdata\u001b[0m\u001b[1;33m,\u001b[0m\u001b[0mdata_yuan\u001b[0m\u001b[1;33m,\u001b[0m\u001b[0mname\u001b[0m\u001b[1;33m,\u001b[0m\u001b[0mmodel\u001b[0m\u001b[1;33m,\u001b[0m\u001b[0mmodelname\u001b[0m\u001b[1;33m,\u001b[0m\u001b[0mINPUT_DIMS\u001b[0m \u001b[1;33m=\u001b[0m \u001b[1;36m13\u001b[0m\u001b[1;33m,\u001b[0m\u001b[0mTIME_STEPS\u001b[0m \u001b[1;33m=\u001b[0m \u001b[1;36m20\u001b[0m\u001b[1;33m)\u001b[0m\u001b[1;33m:\u001b[0m\u001b[1;33m\u001b[0m\u001b[1;33m\u001b[0m\u001b[0m\n\u001b[1;32m---> 63\u001b[1;33m     \u001b[0mprint\u001b[0m\u001b[1;33m(\u001b[0m\u001b[0mdata\u001b[0m\u001b[1;33m.\u001b[0m\u001b[0mcolumns\u001b[0m\u001b[1;33m)\u001b[0m\u001b[1;33m\u001b[0m\u001b[1;33m\u001b[0m\u001b[0m\n\u001b[0m\u001b[0;32m     64\u001b[0m     \u001b[0myindex\u001b[0m \u001b[1;33m=\u001b[0m \u001b[0mdata\u001b[0m\u001b[1;33m.\u001b[0m\u001b[0mcolumns\u001b[0m\u001b[1;33m.\u001b[0m\u001b[0mget_loc\u001b[0m\u001b[1;33m(\u001b[0m\u001b[0mname\u001b[0m\u001b[1;33m)\u001b[0m\u001b[1;33m\u001b[0m\u001b[1;33m\u001b[0m\u001b[0m\n\u001b[0;32m     65\u001b[0m     \u001b[0mdata\u001b[0m \u001b[1;33m=\u001b[0m \u001b[0mnp\u001b[0m\u001b[1;33m.\u001b[0m\u001b[0marray\u001b[0m\u001b[1;33m(\u001b[0m\u001b[0mdata\u001b[0m\u001b[1;33m,\u001b[0m \u001b[0mdtype\u001b[0m\u001b[1;33m=\u001b[0m\u001b[1;34m'float64'\u001b[0m\u001b[1;33m)\u001b[0m\u001b[1;33m\u001b[0m\u001b[1;33m\u001b[0m\u001b[0m\n",
      "\u001b[1;31mAttributeError\u001b[0m: 'numpy.ndarray' object has no attribute 'columns'"
     ]
    }
   ],
   "source": [
    "y_hat, y_test = PredictWithData(test_data, data_all , name,m, 'stock_model.h5',7)"
   ]
  },
  {
   "cell_type": "code",
   "execution_count": null,
   "metadata": {},
   "outputs": [],
   "source": []
  },
  {
   "cell_type": "code",
   "execution_count": 47,
   "metadata": {},
   "outputs": [
    {
     "name": "stdout",
     "output_type": "stream",
     "text": [
      "MSE: 8656.41531\n",
      "RMSE: 93.03986\n",
      "MAE: 77.72220\n",
      "R2: 0.98888\n"
     ]
    },
    {
     "data": {
      "image/png": "[encoded data removed]",
      "text/plain": [
       "<Figure size 432x288 with 1 Axes>"
      ]
     },
     "metadata": {
      "needs_background": "light"
     },
     "output_type": "display_data"
    }
   ],
   "source": [
    "y_hat = np.array(y_hat, dtype='float64')\n",
    "y_test = np.array(y_test, dtype='float64')\n",
    "evaluation_metric(y_test,y_hat)\n",
    "time = pd.Series(data1.index[21438:])\n",
    "plt.plot(time[22:], y_test, label='True')\n",
    "plt.plot(time[22:], y_hat, label='Prediction')\n",
    "plt.title('Hybrid model prediction')\n",
    "plt.xlabel('Time', fontsize=12, verticalalignment='top')\n",
    "plt.ylabel('Price', fontsize=14, horizontalalignment='center')\n",
    "plt.legend()\n",
    "plt.show()"
   ]
  },
  {
   "cell_type": "code",
   "execution_count": 60,
   "metadata": {},
   "outputs": [
    {
     "data": {
      "text/plain": [
       "2537"
      ]
     },
     "execution_count": 60,
     "metadata": {},
     "output_type": "execute_result"
    }
   ],
   "source": [
    "len(y_test)"
   ]
  },
  {
   "cell_type": "code",
   "execution_count": 61,
   "metadata": {},
   "outputs": [
    {
     "data": {
      "text/plain": [
       "2537"
      ]
     },
     "execution_count": 61,
     "metadata": {},
     "output_type": "execute_result"
    }
   ],
   "source": [
    "len(test_data[:,3].tolist()[21:])"
   ]
  },
  {
   "cell_type": "code",
   "execution_count": 64,
   "metadata": {},
   "outputs": [],
   "source": [
    "predictions = {\n",
    "    'trade_date': data1.iloc[21439:, :] .index[21:],\n",
    "    'close': y_test.tolist(),\n",
    "    'predict':y_hat.tolist()\n",
    "}\n",
    "predictions1 = pd.DataFrame(predictions)\n",
    "predictions1 = predictions1.set_index(['trade_date'], drop=True)\n",
    "predictions1.to_csv('./predict3.csv')"
   ]
  }
 ],
 "metadata": {
  "kernelspec": {
   "display_name": "7409",
   "language": "python",
   "name": "python3"
  },
  "language_info": {
   "codemirror_mode": {
    "name": "ipython",
    "version": 3
   },
   "file_extension": ".py",
   "mimetype": "text/x-python",
   "name": "python",
   "nbconvert_exporter": "python",
   "pygments_lexer": "ipython3",
   "version": "3.6.13"
  },
  "orig_nbformat": 4
 },
 "nbformat": 4,
 "nbformat_minor": 2
}
