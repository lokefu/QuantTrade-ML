{
 "cells": [
  {
   "cell_type": "code",
   "execution_count": 2,
   "metadata": {},
   "outputs": [],
   "source": [
    "from keras.optimizers import Adam\n",
    "import matplotlib.pyplot as plt\n",
    "import pandas as pd\n",
    "import numpy as np\n",
    "from sklearn import metrics\n",
    "from utils import *\n",
    "from model2 import *\n"
   ]
  },
  {
   "cell_type": "code",
   "execution_count": 3,
   "metadata": {},
   "outputs": [],
   "source": [
    "\n",
    "\n",
    "\n",
    "\n",
    "\n",
    "\n",
    "#data1 = pd.read_csv('./^SPX2.csv')\n",
    "data1 = pd.read_csv('./^SPX.csv')\n",
    "data1.index = pd.to_datetime(data1['Date'], format='%Y-%m-%d') \n",
    "#data1 = data1.drop(['ts_code', 'trade_date', 'turnover_rate', 'volume_ratio', 'pb', 'total_share', 'float_share', 'free_share'], axis=1)\n",
    "data1 = data1.loc[:, ['Open', 'High', 'Low', 'Close', 'Adj Close', 'Volume']]\n",
    "data_all = data1\n",
    "residuals = pd.read_csv('./ARIMA_residuals(svx).csv')\n",
    "residuals.index = pd.to_datetime(residuals['Date'])\n",
    "residuals.pop('Date')\n",
    "data1 = pd.merge(data1, residuals, on='Date')\n",
    "#data = data1.iloc[21098:23878, :] \n",
    "#data2 = data1.iloc[23878:23998, :] \n",
    "#train_data = data1.iloc[1:2780, :] \n",
    "#test_data = data1.iloc[2780:, :] \n",
    "train_data = data1.iloc[18000:21439, :] \n",
    "test_data = data1.iloc[21439:, :] "
   ]
  },
  {
   "cell_type": "code",
   "execution_count": 4,
   "metadata": {},
   "outputs": [
    {
     "name": "stdout",
     "output_type": "stream",
     "text": [
      "(7, 2)\n",
      "# [[ 6.79280029e+02  1.64913000e+03]\n",
      " [ 6.95270020e+02  1.66148999e+03]\n",
      " [ 6.66789978e+02  1.64668005e+03]\n",
      " [ 6.76530029e+02  1.65878003e+03]\n",
      " [ 6.76530029e+02  1.65878003e+03]\n",
      " [ 3.12120000e+08  1.14562300e+10]\n",
      " [-1.07207714e+02  1.04661267e+02]]\n",
      "(3418, 20, 7) (3418, 1)\n"
     ]
    }
   ],
   "source": [
    "TIME_STEPS = 20\n",
    "\n",
    "train_data, normalize = NormalizeMult(train_data)\n",
    "print('#', normalize)\n",
    "pollution_data = train_data[:, 3].reshape(len(train_data), 1)\n",
    "\n",
    "train_X, _ = create_dataset(train_data, TIME_STEPS)\n",
    "_, train_Y = create_dataset(pollution_data, TIME_STEPS)\n",
    "\n",
    "print(train_X.shape, train_Y.shape)\n"
   ]
  },
  {
   "cell_type": "code",
   "execution_count": 5,
   "metadata": {},
   "outputs": [
    {
     "name": "stdout",
     "output_type": "stream",
     "text": [
      "wwwwwww\n",
      "Model: \"model_1\"\n",
      "_________________________________________________________________\n",
      "Layer (type)                 Output Shape              Param #   \n",
      "=================================================================\n",
      "input_1 (InputLayer)         (None, 20, 7)             0         \n",
      "_________________________________________________________________\n",
      "conv1d_1 (Conv1D)            (None, 20, 64)            512       \n",
      "_________________________________________________________________\n",
      "dropout_1 (Dropout)          (None, 20, 64)            0         \n",
      "_________________________________________________________________\n",
      "bidirectional_1 (Bidirection (None, 20, 128)           66048     \n",
      "_________________________________________________________________\n",
      "dropout_2 (Dropout)          (None, 20, 128)           0         \n",
      "_________________________________________________________________\n",
      "flatten_1 (Flatten)          (None, 2560)              0         \n",
      "_________________________________________________________________\n",
      "dense_1 (Dense)              (None, 1)                 2561      \n",
      "=================================================================\n",
      "Total params: 69,121\n",
      "Trainable params: 69,121\n",
      "Non-trainable params: 0\n",
      "_________________________________________________________________\n",
      "Train on 3076 samples, validate on 342 samples\n",
      "Epoch 1/50\n",
      "3076/3076 [==============================] - 4s 1ms/step - loss: 0.0047 - val_loss: 0.0014\n",
      "Epoch 2/50\n",
      "3076/3076 [==============================] - 2s 752us/step - loss: 0.0018 - val_loss: 0.0011\n",
      "Epoch 3/50\n",
      "3076/3076 [==============================] - 2s 774us/step - loss: 0.0013 - val_loss: 8.1117e-04\n",
      "Epoch 4/50\n",
      "3076/3076 [==============================] - 2s 736us/step - loss: 0.0012 - val_loss: 0.0019\n",
      "Epoch 5/50\n",
      "3076/3076 [==============================] - 2s 719us/step - loss: 0.0010 - val_loss: 6.2181e-04\n",
      "Epoch 6/50\n",
      "3076/3076 [==============================] - 2s 767us/step - loss: 0.0010 - val_loss: 0.0031\n",
      "Epoch 7/50\n",
      "3076/3076 [==============================] - 2s 794us/step - loss: 9.7063e-04 - val_loss: 0.0011\n",
      "Epoch 8/50\n",
      "3076/3076 [==============================] - 2s 742us/step - loss: 8.7614e-04 - val_loss: 0.0022\n",
      "Epoch 9/50\n",
      "3076/3076 [==============================] - 2s 728us/step - loss: 8.0614e-04 - val_loss: 5.7994e-04\n",
      "Epoch 10/50\n",
      "3076/3076 [==============================] - 2s 707us/step - loss: 8.6182e-04 - val_loss: 0.0017\n",
      "Epoch 11/50\n",
      "3076/3076 [==============================] - 2s 713us/step - loss: 8.2086e-04 - val_loss: 0.0083\n",
      "Epoch 12/50\n",
      "3076/3076 [==============================] - 2s 730us/step - loss: 0.0011 - val_loss: 9.7040e-04\n",
      "Epoch 13/50\n",
      "3076/3076 [==============================] - 2s 721us/step - loss: 7.3587e-04 - val_loss: 0.0013-\n",
      "Epoch 14/50\n",
      "3076/3076 [==============================] - 2s 718us/step - loss: 8.2060e-04 - val_loss: 7.0638e-04\n",
      "Epoch 15/50\n",
      "3076/3076 [==============================] - 2s 716us/step - loss: 9.0126e-04 - val_loss: 6.8271e-04\n",
      "Epoch 16/50\n",
      "3076/3076 [==============================] - 2s 709us/step - loss: 7.4568e-04 - val_loss: 0.0019\n",
      "Epoch 17/50\n",
      "3076/3076 [==============================] - 2s 726us/step - loss: 6.8695e-04 - val_loss: 6.8627e-04\n",
      "Epoch 18/50\n",
      "3076/3076 [==============================] - 2s 725us/step - loss: 5.8254e-04 - val_loss: 4.6873e-04\n",
      "Epoch 19/50\n",
      "3076/3076 [==============================] - 2s 717us/step - loss: 6.4894e-04 - val_loss: 7.4131e-04\n",
      "Epoch 20/50\n",
      "3076/3076 [==============================] - 2s 707us/step - loss: 6.5781e-04 - val_loss: 5.6767e-04\n",
      "Epoch 21/50\n",
      "3076/3076 [==============================] - 2s 709us/step - loss: 7.3327e-04 - val_loss: 6.0522e-04\n",
      "Epoch 22/50\n",
      "3076/3076 [==============================] - 2s 708us/step - loss: 6.2600e-04 - val_loss: 4.4711e-04\n",
      "Epoch 23/50\n",
      "3076/3076 [==============================] - 2s 710us/step - loss: 6.0894e-04 - val_loss: 0.0015\n",
      "Epoch 24/50\n",
      "3076/3076 [==============================] - 2s 720us/step - loss: 7.3084e-04 - val_loss: 6.6305e-04\n",
      "Epoch 25/50\n",
      "3076/3076 [==============================] - 2s 717us/step - loss: 5.8066e-04 - val_loss: 5.6776e-04\n",
      "Epoch 26/50\n",
      "3076/3076 [==============================] - 2s 708us/step - loss: 5.9271e-04 - val_loss: 5.7923e-04\n",
      "Epoch 27/50\n",
      "3076/3076 [==============================] - 2s 709us/step - loss: 6.4042e-04 - val_loss: 0.0042\n",
      "Epoch 28/50\n",
      "3076/3076 [==============================] - 2s 716us/step - loss: 6.2613e-04 - val_loss: 3.9198e-04\n",
      "Epoch 29/50\n",
      "3076/3076 [==============================] - 2s 728us/step - loss: 5.7266e-04 - val_loss: 6.8830e-04\n",
      "Epoch 30/50\n",
      "3076/3076 [==============================] - 2s 731us/step - loss: 5.3130e-04 - val_loss: 3.8362e-04\n",
      "Epoch 31/50\n",
      "3076/3076 [==============================] - 2s 746us/step - loss: 5.5764e-04 - val_loss: 0.0010\n",
      "Epoch 32/50\n",
      "3076/3076 [==============================] - 2s 713us/step - loss: 6.3967e-04 - val_loss: 5.8616e-04\n",
      "Epoch 33/50\n",
      "3076/3076 [==============================] - 2s 714us/step - loss: 5.6766e-04 - val_loss: 5.3930e-04\n",
      "Epoch 34/50\n",
      "3076/3076 [==============================] - 2s 716us/step - loss: 5.4226e-04 - val_loss: 3.9054e-04\n",
      "Epoch 35/50\n",
      "3076/3076 [==============================] - 2s 706us/step - loss: 5.5739e-04 - val_loss: 9.6399e-04\n",
      "Epoch 36/50\n",
      "3076/3076 [==============================] - 2s 705us/step - loss: 6.7177e-04 - val_loss: 5.9138e-04\n",
      "Epoch 37/50\n",
      "3076/3076 [==============================] - 2s 710us/step - loss: 4.9883e-04 - val_loss: 4.1208e-04\n",
      "Epoch 38/50\n",
      "3076/3076 [==============================] - 2s 722us/step - loss: 5.7701e-04 - val_loss: 6.8370e-04\n",
      "Epoch 39/50\n",
      "3076/3076 [==============================] - 2s 712us/step - loss: 5.2681e-04 - val_loss: 4.2876e-04\n",
      "Epoch 40/50\n",
      "3076/3076 [==============================] - 2s 705us/step - loss: 5.6426e-04 - val_loss: 4.2549e-04\n",
      "Epoch 41/50\n",
      "3076/3076 [==============================] - 2s 707us/step - loss: 6.1823e-04 - val_loss: 8.9062e-04\n",
      "Epoch 42/50\n",
      "3076/3076 [==============================] - 2s 703us/step - loss: 5.2015e-04 - val_loss: 0.0019\n",
      "Epoch 43/50\n",
      "3076/3076 [==============================] - 2s 709us/step - loss: 5.3056e-04 - val_loss: 5.9084e-04\n",
      "Epoch 44/50\n",
      "3076/3076 [==============================] - 2s 712us/step - loss: 5.3791e-04 - val_loss: 5.1336e-04\n",
      "Epoch 45/50\n",
      "3076/3076 [==============================] - 2s 703us/step - loss: 4.5800e-04 - val_loss: 0.0024\n",
      "Epoch 46/50\n",
      "3076/3076 [==============================] - 2s 713us/step - loss: 5.5333e-04 - val_loss: 3.6053e-04\n",
      "Epoch 47/50\n",
      "3076/3076 [==============================] - 2s 702us/step - loss: 4.8614e-04 - val_loss: 3.6822e-04\n",
      "Epoch 48/50\n",
      "3076/3076 [==============================] - 2s 706us/step - loss: 5.8130e-04 - val_loss: 0.0026\n",
      "Epoch 49/50\n",
      "3076/3076 [==============================] - 2s 706us/step - loss: 6.2689e-04 - val_loss: 5.9191e-04\n",
      "Epoch 50/50\n",
      "3076/3076 [==============================] - 2s 709us/step - loss: 5.7367e-04 - val_loss: 0.0012\n"
     ]
    }
   ],
   "source": [
    "m = attention_model(INPUT_DIMS=7)\n",
    "m.summary() \n",
    "adam = Adam(learning_rate=0.01)\n",
    "m.compile(optimizer=adam, loss='mse') \n",
    "history = m.fit([train_X], train_Y, epochs=50, batch_size=32, validation_split=0.1)\n",
    "m.save(\"./stock_model.h5\")\n",
    "np.save(\"stock_normalize.npy\", normalize)"
   ]
  },
  {
   "cell_type": "code",
   "execution_count": 6,
   "metadata": {},
   "outputs": [
    {
     "data": {
      "image/png": "[encoded data removed]",
      "text/plain": [
       "<Figure size 432x288 with 1 Axes>"
      ]
     },
     "metadata": {
      "needs_background": "light"
     },
     "output_type": "display_data"
    }
   ],
   "source": [
    "plt.plot(history.history['loss'], label='Training Loss')\n",
    "plt.plot(history.history['val_loss'], label='Validation Loss')\n",
    "plt.title('Training and Validation Loss')\n",
    "plt.legend()\n",
    "plt.show()"
   ]
  },
  {
   "cell_type": "code",
   "execution_count": 7,
   "metadata": {},
   "outputs": [],
   "source": [
    "class Config:\n",
    "    def __init__(self):\n",
    "        self.dimname = 'Close'\n",
    "\n",
    "config = Config()\n",
    "name = config.dimname\n",
    "# normalize = np.load(\"normalize.npy\")\n",
    "#y_hat, y_test = PredictWithData(data2, data_yuan, name,m, 'stock_model.h5',7)\n"
   ]
  },
  {
   "cell_type": "code",
   "execution_count": 8,
   "metadata": {},
   "outputs": [
    {
     "name": "stdout",
     "output_type": "stream",
     "text": [
      "Index(['Open', 'High', 'Low', 'Close', 'Adj Close', 'Volume', '0'], dtype='object')\n",
      "(7, 2)\n",
      "testX Y shape is: (2537, 20, 7) (2537, 1)\n"
     ]
    }
   ],
   "source": [
    "y_hat, y_test = PredictWithData(test_data, data_all , name,m, 'stock_model.h5',7)"
   ]
  },
  {
   "cell_type": "code",
   "execution_count": 9,
   "metadata": {},
   "outputs": [
    {
     "data": {
      "text/plain": [
       "2537"
      ]
     },
     "execution_count": 9,
     "metadata": {},
     "output_type": "execute_result"
    }
   ],
   "source": [
    "len(y_test)"
   ]
  },
  {
   "cell_type": "code",
   "execution_count": 10,
   "metadata": {},
   "outputs": [
    {
     "name": "stdout",
     "output_type": "stream",
     "text": [
      "MSE: 0.00076\n",
      "RMSE: 0.02759\n",
      "MAE: 0.02376\n",
      "R2: 0.98984\n"
     ]
    },
    {
     "ename": "ValueError",
     "evalue": "x and y must have same first dimension, but have shapes (2559,) and (2537, 1)",
     "output_type": "error",
     "traceback": [
      "\u001b[1;31m---------------------------------------------------------------------------\u001b[0m",
      "\u001b[1;31mValueError\u001b[0m                                Traceback (most recent call last)",
      "\u001b[1;32m<ipython-input-10-c2330c05b506>\u001b[0m in \u001b[0;36m<module>\u001b[1;34m\u001b[0m\n\u001b[0;32m      3\u001b[0m \u001b[0mevaluation_metric\u001b[0m\u001b[1;33m(\u001b[0m\u001b[0my_test\u001b[0m\u001b[1;33m,\u001b[0m\u001b[0my_hat\u001b[0m\u001b[1;33m)\u001b[0m\u001b[1;33m\u001b[0m\u001b[1;33m\u001b[0m\u001b[0m\n\u001b[0;32m      4\u001b[0m \u001b[0mtime\u001b[0m \u001b[1;33m=\u001b[0m \u001b[0mpd\u001b[0m\u001b[1;33m.\u001b[0m\u001b[0mSeries\u001b[0m\u001b[1;33m(\u001b[0m\u001b[0mdata1\u001b[0m\u001b[1;33m.\u001b[0m\u001b[0mindex\u001b[0m\u001b[1;33m[\u001b[0m\u001b[1;36m21438\u001b[0m\u001b[1;33m:\u001b[0m\u001b[1;33m]\u001b[0m\u001b[1;33m)\u001b[0m\u001b[1;33m\u001b[0m\u001b[1;33m\u001b[0m\u001b[0m\n\u001b[1;32m----> 5\u001b[1;33m \u001b[0mplt\u001b[0m\u001b[1;33m.\u001b[0m\u001b[0mplot\u001b[0m\u001b[1;33m(\u001b[0m\u001b[0mtime\u001b[0m\u001b[1;33m,\u001b[0m \u001b[0my_test\u001b[0m\u001b[1;33m,\u001b[0m \u001b[0mlabel\u001b[0m\u001b[1;33m=\u001b[0m\u001b[1;34m'True'\u001b[0m\u001b[1;33m)\u001b[0m\u001b[1;33m\u001b[0m\u001b[1;33m\u001b[0m\u001b[0m\n\u001b[0m\u001b[0;32m      6\u001b[0m \u001b[0mplt\u001b[0m\u001b[1;33m.\u001b[0m\u001b[0mplot\u001b[0m\u001b[1;33m(\u001b[0m\u001b[0mtime\u001b[0m\u001b[1;33m,\u001b[0m \u001b[0my_hat\u001b[0m\u001b[1;33m,\u001b[0m \u001b[0mlabel\u001b[0m\u001b[1;33m=\u001b[0m\u001b[1;34m'Prediction'\u001b[0m\u001b[1;33m)\u001b[0m\u001b[1;33m\u001b[0m\u001b[1;33m\u001b[0m\u001b[0m\n\u001b[0;32m      7\u001b[0m \u001b[0mplt\u001b[0m\u001b[1;33m.\u001b[0m\u001b[0mtitle\u001b[0m\u001b[1;33m(\u001b[0m\u001b[1;34m'Hybrid model prediction'\u001b[0m\u001b[1;33m)\u001b[0m\u001b[1;33m\u001b[0m\u001b[1;33m\u001b[0m\u001b[0m\n",
      "\u001b[1;32mc:\\Users\\him19\\anaconda3\\envs\\7409\\lib\\site-packages\\matplotlib\\pyplot.py\u001b[0m in \u001b[0;36mplot\u001b[1;34m(scalex, scaley, data, *args, **kwargs)\u001b[0m\n\u001b[0;32m   2840\u001b[0m     return gca().plot(\n\u001b[0;32m   2841\u001b[0m         \u001b[1;33m*\u001b[0m\u001b[0margs\u001b[0m\u001b[1;33m,\u001b[0m \u001b[0mscalex\u001b[0m\u001b[1;33m=\u001b[0m\u001b[0mscalex\u001b[0m\u001b[1;33m,\u001b[0m \u001b[0mscaley\u001b[0m\u001b[1;33m=\u001b[0m\u001b[0mscaley\u001b[0m\u001b[1;33m,\u001b[0m\u001b[1;33m\u001b[0m\u001b[1;33m\u001b[0m\u001b[0m\n\u001b[1;32m-> 2842\u001b[1;33m         **({\"data\": data} if data is not None else {}), **kwargs)\n\u001b[0m\u001b[0;32m   2843\u001b[0m \u001b[1;33m\u001b[0m\u001b[0m\n\u001b[0;32m   2844\u001b[0m \u001b[1;33m\u001b[0m\u001b[0m\n",
      "\u001b[1;32mc:\\Users\\him19\\anaconda3\\envs\\7409\\lib\\site-packages\\matplotlib\\axes\\_axes.py\u001b[0m in \u001b[0;36mplot\u001b[1;34m(self, scalex, scaley, data, *args, **kwargs)\u001b[0m\n\u001b[0;32m   1741\u001b[0m         \"\"\"\n\u001b[0;32m   1742\u001b[0m         \u001b[0mkwargs\u001b[0m \u001b[1;33m=\u001b[0m \u001b[0mcbook\u001b[0m\u001b[1;33m.\u001b[0m\u001b[0mnormalize_kwargs\u001b[0m\u001b[1;33m(\u001b[0m\u001b[0mkwargs\u001b[0m\u001b[1;33m,\u001b[0m \u001b[0mmlines\u001b[0m\u001b[1;33m.\u001b[0m\u001b[0mLine2D\u001b[0m\u001b[1;33m)\u001b[0m\u001b[1;33m\u001b[0m\u001b[1;33m\u001b[0m\u001b[0m\n\u001b[1;32m-> 1743\u001b[1;33m         \u001b[0mlines\u001b[0m \u001b[1;33m=\u001b[0m \u001b[1;33m[\u001b[0m\u001b[1;33m*\u001b[0m\u001b[0mself\u001b[0m\u001b[1;33m.\u001b[0m\u001b[0m_get_lines\u001b[0m\u001b[1;33m(\u001b[0m\u001b[1;33m*\u001b[0m\u001b[0margs\u001b[0m\u001b[1;33m,\u001b[0m \u001b[0mdata\u001b[0m\u001b[1;33m=\u001b[0m\u001b[0mdata\u001b[0m\u001b[1;33m,\u001b[0m \u001b[1;33m**\u001b[0m\u001b[0mkwargs\u001b[0m\u001b[1;33m)\u001b[0m\u001b[1;33m]\u001b[0m\u001b[1;33m\u001b[0m\u001b[1;33m\u001b[0m\u001b[0m\n\u001b[0m\u001b[0;32m   1744\u001b[0m         \u001b[1;32mfor\u001b[0m \u001b[0mline\u001b[0m \u001b[1;32min\u001b[0m \u001b[0mlines\u001b[0m\u001b[1;33m:\u001b[0m\u001b[1;33m\u001b[0m\u001b[1;33m\u001b[0m\u001b[0m\n\u001b[0;32m   1745\u001b[0m             \u001b[0mself\u001b[0m\u001b[1;33m.\u001b[0m\u001b[0madd_line\u001b[0m\u001b[1;33m(\u001b[0m\u001b[0mline\u001b[0m\u001b[1;33m)\u001b[0m\u001b[1;33m\u001b[0m\u001b[1;33m\u001b[0m\u001b[0m\n",
      "\u001b[1;32mc:\\Users\\him19\\anaconda3\\envs\\7409\\lib\\site-packages\\matplotlib\\axes\\_base.py\u001b[0m in \u001b[0;36m__call__\u001b[1;34m(self, data, *args, **kwargs)\u001b[0m\n\u001b[0;32m    271\u001b[0m                 \u001b[0mthis\u001b[0m \u001b[1;33m+=\u001b[0m \u001b[0margs\u001b[0m\u001b[1;33m[\u001b[0m\u001b[1;36m0\u001b[0m\u001b[1;33m]\u001b[0m\u001b[1;33m,\u001b[0m\u001b[1;33m\u001b[0m\u001b[1;33m\u001b[0m\u001b[0m\n\u001b[0;32m    272\u001b[0m                 \u001b[0margs\u001b[0m \u001b[1;33m=\u001b[0m \u001b[0margs\u001b[0m\u001b[1;33m[\u001b[0m\u001b[1;36m1\u001b[0m\u001b[1;33m:\u001b[0m\u001b[1;33m]\u001b[0m\u001b[1;33m\u001b[0m\u001b[1;33m\u001b[0m\u001b[0m\n\u001b[1;32m--> 273\u001b[1;33m             \u001b[1;32myield\u001b[0m \u001b[1;32mfrom\u001b[0m \u001b[0mself\u001b[0m\u001b[1;33m.\u001b[0m\u001b[0m_plot_args\u001b[0m\u001b[1;33m(\u001b[0m\u001b[0mthis\u001b[0m\u001b[1;33m,\u001b[0m \u001b[0mkwargs\u001b[0m\u001b[1;33m)\u001b[0m\u001b[1;33m\u001b[0m\u001b[1;33m\u001b[0m\u001b[0m\n\u001b[0m\u001b[0;32m    274\u001b[0m \u001b[1;33m\u001b[0m\u001b[0m\n\u001b[0;32m    275\u001b[0m     \u001b[1;32mdef\u001b[0m \u001b[0mget_next_color\u001b[0m\u001b[1;33m(\u001b[0m\u001b[0mself\u001b[0m\u001b[1;33m)\u001b[0m\u001b[1;33m:\u001b[0m\u001b[1;33m\u001b[0m\u001b[1;33m\u001b[0m\u001b[0m\n",
      "\u001b[1;32mc:\\Users\\him19\\anaconda3\\envs\\7409\\lib\\site-packages\\matplotlib\\axes\\_base.py\u001b[0m in \u001b[0;36m_plot_args\u001b[1;34m(self, tup, kwargs)\u001b[0m\n\u001b[0;32m    397\u001b[0m \u001b[1;33m\u001b[0m\u001b[0m\n\u001b[0;32m    398\u001b[0m         \u001b[1;32mif\u001b[0m \u001b[0mx\u001b[0m\u001b[1;33m.\u001b[0m\u001b[0mshape\u001b[0m\u001b[1;33m[\u001b[0m\u001b[1;36m0\u001b[0m\u001b[1;33m]\u001b[0m \u001b[1;33m!=\u001b[0m \u001b[0my\u001b[0m\u001b[1;33m.\u001b[0m\u001b[0mshape\u001b[0m\u001b[1;33m[\u001b[0m\u001b[1;36m0\u001b[0m\u001b[1;33m]\u001b[0m\u001b[1;33m:\u001b[0m\u001b[1;33m\u001b[0m\u001b[1;33m\u001b[0m\u001b[0m\n\u001b[1;32m--> 399\u001b[1;33m             raise ValueError(f\"x and y must have same first dimension, but \"\n\u001b[0m\u001b[0;32m    400\u001b[0m                              f\"have shapes {x.shape} and {y.shape}\")\n\u001b[0;32m    401\u001b[0m         \u001b[1;32mif\u001b[0m \u001b[0mx\u001b[0m\u001b[1;33m.\u001b[0m\u001b[0mndim\u001b[0m \u001b[1;33m>\u001b[0m \u001b[1;36m2\u001b[0m \u001b[1;32mor\u001b[0m \u001b[0my\u001b[0m\u001b[1;33m.\u001b[0m\u001b[0mndim\u001b[0m \u001b[1;33m>\u001b[0m \u001b[1;36m2\u001b[0m\u001b[1;33m:\u001b[0m\u001b[1;33m\u001b[0m\u001b[1;33m\u001b[0m\u001b[0m\n",
      "\u001b[1;31mValueError\u001b[0m: x and y must have same first dimension, but have shapes (2559,) and (2537, 1)"
     ]
    },
    {
     "data": {
      "image/png": "[encoded data removed]",
      "text/plain": [
       "<Figure size 432x288 with 1 Axes>"
      ]
     },
     "metadata": {
      "needs_background": "light"
     },
     "output_type": "display_data"
    }
   ],
   "source": [
    "y_hat = np.array(y_hat, dtype='float64')\n",
    "y_test = np.array(y_test, dtype='float64')\n",
    "evaluation_metric(y_test,y_hat)\n",
    "time = pd.Series(data1.index[21438:])\n",
    "plt.plot(time, y_test, label='True')\n",
    "plt.plot(time, y_hat, label='Prediction')\n",
    "plt.title('Hybrid model prediction')\n",
    "plt.xlabel('Time', fontsize=12, verticalalignment='top')\n",
    "plt.ylabel('Price', fontsize=14, horizontalalignment='center')\n",
    "plt.legend()\n",
    "plt.show()"
   ]
  },
  {
   "cell_type": "code",
   "execution_count": 16,
   "metadata": {},
   "outputs": [
    {
     "data": {
      "text/plain": [
       "2558"
      ]
     },
     "execution_count": 16,
     "metadata": {},
     "output_type": "execute_result"
    }
   ],
   "source": [
    "len(test_data)"
   ]
  },
  {
   "cell_type": "code",
   "execution_count": 15,
   "metadata": {},
   "outputs": [
    {
     "data": {
      "text/plain": [
       "2559"
      ]
     },
     "execution_count": 15,
     "metadata": {},
     "output_type": "execute_result"
    }
   ],
   "source": [
    "len(y_test)"
   ]
  },
  {
   "cell_type": "code",
   "execution_count": 18,
   "metadata": {},
   "outputs": [],
   "source": [
    "predictions = {\n",
    "    'trade_date': test_data.index[:],\n",
    "    'close': y_test[1:],\n",
    "    'predict':y_hat[1:]\n",
    "}\n",
    "predictions1 = pd.DataFrame(predictions)\n",
    "predictions1 = predictions1.set_index(['trade_date'], drop=True)\n",
    "predictions1.to_csv('./predict2.csv')"
   ]
  }
 ],
 "metadata": {
  "kernelspec": {
   "display_name": "7409",
   "language": "python",
   "name": "python3"
  },
  "language_info": {
   "codemirror_mode": {
    "name": "ipython",
    "version": 3
   },
   "file_extension": ".py",
   "mimetype": "text/x-python",
   "name": "python",
   "nbconvert_exporter": "python",
   "pygments_lexer": "ipython3",
   "version": "3.6.13"
  },
  "orig_nbformat": 4
 },
 "nbformat": 4,
 "nbformat_minor": 2
}
