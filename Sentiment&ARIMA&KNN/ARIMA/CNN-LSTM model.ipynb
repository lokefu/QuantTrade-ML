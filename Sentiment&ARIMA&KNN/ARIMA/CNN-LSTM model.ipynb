{
 "cells": [
  {
   "cell_type": "code",
   "execution_count": 1,
   "metadata": {},
   "outputs": [
    {
     "name": "stderr",
     "output_type": "stream",
     "text": [
      "Using TensorFlow backend.\n",
      "c:\\Users\\him19\\anaconda3\\envs\\7409\\lib\\site-packages\\statsmodels\\tools\\_testing.py:19: FutureWarning: pandas.util.testing is deprecated. Use the functions in the public API at pandas.testing instead.\n",
      "  import pandas.util.testing as tm\n"
     ]
    }
   ],
   "source": [
    "from keras.optimizers import Adam\n",
    "import matplotlib.pyplot as plt\n",
    "import pandas as pd\n",
    "import numpy as np\n",
    "from sklearn import metrics\n",
    "from utils import *\n",
    "from model2 import *\n"
   ]
  },
  {
   "cell_type": "code",
   "execution_count": 29,
   "metadata": {},
   "outputs": [],
   "source": [
    "\n",
    "\n",
    "\n",
    "\n",
    "\n",
    "\n",
    "#data1 = pd.read_csv('./^SPX2.csv')\n",
    "data1 = pd.read_csv('./^SPX.csv')\n",
    "data1.index = pd.to_datetime(data1['Date'], format='%Y-%m-%d') \n",
    "#data1 = data1.drop(['ts_code', 'trade_date', 'turnover_rate', 'volume_ratio', 'pb', 'total_share', 'float_share', 'free_share'], axis=1)\n",
    "data1 = data1.loc[:, ['Open', 'High', 'Low', 'Close', 'Adj Close', 'Volume']]\n",
    "data_all = data1\n",
    "residuals = pd.read_csv('./ARIMA_residuals(svx).csv')\n",
    "residuals.index = pd.to_datetime(residuals['Date'])\n",
    "residuals.pop('Date')\n",
    "data1 = pd.merge(data1, residuals, on='Date')\n",
    "#data = data1.iloc[21098:23878, :] \n",
    "#data2 = data1.iloc[23878:23998, :] \n",
    "#train_data = data1.iloc[1:2780, :] \n",
    "#test_data = data1.iloc[2780:, :] \n",
    "train_data = data1.iloc[18000:21439, :] \n",
    "test_data = data1.iloc[21439:, :] "
   ]
  },
  {
   "cell_type": "code",
   "execution_count": 30,
   "metadata": {},
   "outputs": [
    {
     "name": "stdout",
     "output_type": "stream",
     "text": [
      "(7, 2)\n",
      "(3418, 20, 7) (3418, 1)\n"
     ]
    }
   ],
   "source": [
    "TIME_STEPS = 20\n",
    "\n",
    "#train_data=np.array(train_data)\n",
    "train_data, normalize = NormalizeMult(train_data)\n",
    "#print('#', normalize)\n",
    "pollution_data = train_data[:, 3].reshape(len(train_data), 1)\n",
    "\n",
    "train_X, _ = create_dataset(train_data, TIME_STEPS)\n",
    "_, train_Y = create_dataset(np.array(pollution_data), TIME_STEPS)\n",
    "\n",
    "print(train_X.shape, train_Y.shape)\n"
   ]
  },
  {
   "cell_type": "code",
   "execution_count": 31,
   "metadata": {},
   "outputs": [
    {
     "name": "stdout",
     "output_type": "stream",
     "text": [
      "wwwwwww\n",
      "Model: \"model_2\"\n",
      "_________________________________________________________________\n",
      "Layer (type)                 Output Shape              Param #   \n",
      "=================================================================\n",
      "input_2 (InputLayer)         (None, 20, 7)             0         \n",
      "_________________________________________________________________\n",
      "conv1d_2 (Conv1D)            (None, 20, 64)            512       \n",
      "_________________________________________________________________\n",
      "dropout_3 (Dropout)          (None, 20, 64)            0         \n",
      "_________________________________________________________________\n",
      "bidirectional_2 (Bidirection (None, 20, 128)           66048     \n",
      "_________________________________________________________________\n",
      "dropout_4 (Dropout)          (None, 20, 128)           0         \n",
      "_________________________________________________________________\n",
      "flatten_2 (Flatten)          (None, 2560)              0         \n",
      "_________________________________________________________________\n",
      "dense_2 (Dense)              (None, 1)                 2561      \n",
      "=================================================================\n",
      "Total params: 69,121\n",
      "Trainable params: 69,121\n",
      "Non-trainable params: 0\n",
      "_________________________________________________________________\n",
      "Train on 3076 samples, validate on 342 samples\n",
      "Epoch 1/50\n",
      "3076/3076 [==============================] - 2s 568us/step - loss: 0.0051 - val_loss: 9.7045e-04\n",
      "Epoch 2/50\n",
      "3076/3076 [==============================] - 1s 334us/step - loss: 0.0017 - val_loss: 0.0012\n",
      "Epoch 3/50\n",
      "3076/3076 [==============================] - 1s 336us/step - loss: 0.0014 - val_loss: 9.1910e-04\n",
      "Epoch 4/50\n",
      "3076/3076 [==============================] - 1s 332us/step - loss: 0.0013 - val_loss: 8.1733e-04\n",
      "Epoch 5/50\n",
      "3076/3076 [==============================] - 1s 330us/step - loss: 0.0012 - val_loss: 0.0020\n",
      "Epoch 6/50\n",
      "3076/3076 [==============================] - 1s 352us/step - loss: 0.0011 - val_loss: 0.0016\n",
      "Epoch 7/50\n",
      "3076/3076 [==============================] - 1s 353us/step - loss: 9.5002e-04 - val_loss: 0.0023\n",
      "Epoch 8/50\n",
      "3076/3076 [==============================] - 1s 328us/step - loss: 7.9210e-04 - val_loss: 9.4967e-04\n",
      "Epoch 9/50\n",
      "3076/3076 [==============================] - 1s 342us/step - loss: 8.8359e-04 - val_loss: 0.0028\n",
      "Epoch 10/50\n",
      "3076/3076 [==============================] - 1s 359us/step - loss: 8.6621e-04 - val_loss: 6.6733e-04\n",
      "Epoch 11/50\n",
      "3076/3076 [==============================] - 1s 348us/step - loss: 8.0176e-04 - val_loss: 5.3900e-04\n",
      "Epoch 12/50\n",
      "3076/3076 [==============================] - 1s 352us/step - loss: 8.0664e-04 - val_loss: 7.3847e-04\n",
      "Epoch 13/50\n",
      "3076/3076 [==============================] - 1s 354us/step - loss: 7.6841e-04 - val_loss: 6.2780e-04\n",
      "Epoch 14/50\n",
      "3076/3076 [==============================] - 1s 344us/step - loss: 6.7562e-04 - val_loss: 0.0010\n",
      "Epoch 15/50\n",
      "3076/3076 [==============================] - 1s 343us/step - loss: 7.1912e-04 - val_loss: 0.0016\n",
      "Epoch 16/50\n",
      "3076/3076 [==============================] - 1s 346us/step - loss: 7.2307e-04 - val_loss: 0.0012\n",
      "Epoch 17/50\n",
      "3076/3076 [==============================] - 1s 339us/step - loss: 6.7425e-04 - val_loss: 9.1323e-04\n",
      "Epoch 18/50\n",
      "3076/3076 [==============================] - 1s 329us/step - loss: 5.9031e-04 - val_loss: 8.2134e-04\n",
      "Epoch 19/50\n",
      "3076/3076 [==============================] - 1s 313us/step - loss: 6.1367e-04 - val_loss: 4.8841e-04\n",
      "Epoch 20/50\n",
      "3076/3076 [==============================] - 1s 311us/step - loss: 6.4375e-04 - val_loss: 5.9564e-04\n",
      "Epoch 21/50\n",
      "3076/3076 [==============================] - 1s 323us/step - loss: 6.1804e-04 - val_loss: 0.0023\n",
      "Epoch 22/50\n",
      "3076/3076 [==============================] - 1s 315us/step - loss: 7.0356e-04 - val_loss: 8.6192e-04\n",
      "Epoch 23/50\n",
      "3076/3076 [==============================] - 1s 318us/step - loss: 7.0289e-04 - val_loss: 5.6304e-04\n",
      "Epoch 24/50\n",
      "3076/3076 [==============================] - 1s 314us/step - loss: 6.3616e-04 - val_loss: 0.0011\n",
      "Epoch 25/50\n",
      "3076/3076 [==============================] - 1s 314us/step - loss: 6.5916e-04 - val_loss: 4.4288e-04\n",
      "Epoch 26/50\n",
      "3076/3076 [==============================] - 1s 309us/step - loss: 5.9669e-04 - val_loss: 6.1163e-04\n",
      "Epoch 27/50\n",
      "3076/3076 [==============================] - 1s 311us/step - loss: 5.7601e-04 - val_loss: 5.1397e-04\n",
      "Epoch 28/50\n",
      "3076/3076 [==============================] - 1s 312us/step - loss: 4.7824e-04 - val_loss: 3.1652e-04\n",
      "Epoch 29/50\n",
      "3076/3076 [==============================] - 1s 314us/step - loss: 6.3868e-04 - val_loss: 6.2244e-04\n",
      "Epoch 30/50\n",
      "3076/3076 [==============================] - 1s 311us/step - loss: 5.8210e-04 - val_loss: 5.0071e-04\n",
      "Epoch 31/50\n",
      "3076/3076 [==============================] - 1s 332us/step - loss: 6.2147e-04 - val_loss: 4.9967e-04\n",
      "Epoch 32/50\n",
      "3076/3076 [==============================] - 1s 342us/step - loss: 5.3205e-04 - val_loss: 3.6964e-04\n",
      "Epoch 33/50\n",
      "3076/3076 [==============================] - 1s 333us/step - loss: 6.4573e-04 - val_loss: 5.1721e-04\n",
      "Epoch 34/50\n",
      "3076/3076 [==============================] - 1s 340us/step - loss: 5.8933e-04 - val_loss: 4.6600e-04\n",
      "Epoch 35/50\n",
      "3076/3076 [==============================] - 1s 348us/step - loss: 5.6253e-04 - val_loss: 0.0017\n",
      "Epoch 36/50\n",
      "3076/3076 [==============================] - 1s 337us/step - loss: 5.9766e-04 - val_loss: 8.0725e-04\n",
      "Epoch 37/50\n",
      "3076/3076 [==============================] - 1s 340us/step - loss: 6.1413e-04 - val_loss: 4.7741e-04\n",
      "Epoch 38/50\n",
      "3076/3076 [==============================] - 1s 335us/step - loss: 5.2136e-04 - val_loss: 3.6419e-04\n",
      "Epoch 39/50\n",
      "3076/3076 [==============================] - 1s 342us/step - loss: 4.9436e-04 - val_loss: 3.4039e-04\n",
      "Epoch 40/50\n",
      "3076/3076 [==============================] - 1s 341us/step - loss: 4.7509e-04 - val_loss: 4.4982e-04\n",
      "Epoch 41/50\n",
      "3076/3076 [==============================] - 1s 342us/step - loss: 5.5154e-04 - val_loss: 0.0027\n",
      "Epoch 42/50\n",
      "3076/3076 [==============================] - 1s 333us/step - loss: 5.5114e-04 - val_loss: 0.0010\n",
      "Epoch 43/50\n",
      "3076/3076 [==============================] - 1s 333us/step - loss: 5.9287e-04 - val_loss: 0.0016\n",
      "Epoch 44/50\n",
      "3076/3076 [==============================] - 1s 329us/step - loss: 4.9609e-04 - val_loss: 5.4005e-04\n",
      "Epoch 45/50\n",
      "3076/3076 [==============================] - 1s 326us/step - loss: 5.3598e-04 - val_loss: 0.0011\n",
      "Epoch 46/50\n",
      "3076/3076 [==============================] - 1s 335us/step - loss: 5.1369e-04 - val_loss: 6.1956e-04\n",
      "Epoch 47/50\n",
      "3076/3076 [==============================] - 1s 357us/step - loss: 6.5582e-04 - val_loss: 0.0019\n",
      "Epoch 48/50\n",
      "3076/3076 [==============================] - 1s 350us/step - loss: 6.0335e-04 - val_loss: 4.5228e-04\n",
      "Epoch 49/50\n",
      "3076/3076 [==============================] - 1s 336us/step - loss: 5.7057e-04 - val_loss: 9.1826e-04\n",
      "Epoch 50/50\n",
      "3076/3076 [==============================] - 1s 328us/step - loss: 5.0067e-04 - val_loss: 7.9602e-04\n"
     ]
    }
   ],
   "source": [
    "m = attention_model(INPUT_DIMS=7)\n",
    "m.summary() \n",
    "adam = Adam(learning_rate=0.01)\n",
    "m.compile(optimizer=adam, loss='mse') \n",
    "history = m.fit([train_X], train_Y, epochs=50, batch_size=32, validation_split=0.1)\n",
    "m.save(\"./stock_model.h5\")\n",
    "#np.save(\"stock_normalize.npy\", normalize)"
   ]
  },
  {
   "cell_type": "code",
   "execution_count": 32,
   "metadata": {},
   "outputs": [
    {
     "data": {
      "image/png": "[encoded data removed]",
      "text/plain": [
       "<Figure size 432x288 with 1 Axes>"
      ]
     },
     "metadata": {
      "needs_background": "light"
     },
     "output_type": "display_data"
    }
   ],
   "source": [
    "plt.plot(history.history['loss'], label='Training Loss')\n",
    "plt.plot(history.history['val_loss'], label='Validation Loss')\n",
    "plt.title('Training and Validation Loss')\n",
    "plt.legend()\n",
    "plt.show()"
   ]
  },
  {
   "cell_type": "code",
   "execution_count": 33,
   "metadata": {},
   "outputs": [
    {
     "name": "stdout",
     "output_type": "stream",
     "text": [
      "(7, 2)\n",
      "# 1577.52002\n",
      "(2537, 20, 7) (2537, 1)\n"
     ]
    }
   ],
   "source": [
    "test_data, normalize = NormalizeMult(test_data)\n",
    "print('#', normalize[0,0])\n",
    "pollution_data = test_data[:, 3].reshape(len(test_data), 1)\n",
    "\n",
    "test_X, _ = create_dataset(test_data, TIME_STEPS)\n",
    "_, test_Y = create_dataset(pollution_data, TIME_STEPS)\n",
    "\n",
    "print(test_X.shape, test_Y.shape)"
   ]
  },
  {
   "cell_type": "code",
   "execution_count": 44,
   "metadata": {},
   "outputs": [],
   "source": [
    "y_test=test_Y"
   ]
  },
  {
   "cell_type": "code",
   "execution_count": 45,
   "metadata": {},
   "outputs": [],
   "source": [
    "y_hat =  m.predict(test_X)"
   ]
  },
  {
   "cell_type": "code",
   "execution_count": 46,
   "metadata": {},
   "outputs": [],
   "source": [
    "y_test=FNormalizeMult(y_test,normalize[3])\n",
    "y_hat=FNormalizeMult(y_hat,normalize[3])"
   ]
  },
  {
   "cell_type": "code",
   "execution_count": 40,
   "metadata": {},
   "outputs": [
    {
     "data": {
      "text/plain": [
       "array([1810.14468393])"
      ]
     },
     "execution_count": 40,
     "metadata": {},
     "output_type": "execute_result"
    }
   ],
   "source": [
    "y_hat[0]"
   ]
  },
  {
   "cell_type": "code",
   "execution_count": 6,
   "metadata": {},
   "outputs": [],
   "source": [
    "class Config:\n",
    "    def __init__(self):\n",
    "        self.dimname = 'Close'\n",
    "\n",
    "config = Config()\n",
    "name = config.dimname\n",
    "# normalize = np.load(\"normalize.npy\")\n",
    "#y_hat, y_test = PredictWithData(data2, data_yuan, name,m, 'stock_model.h5',7)\n"
   ]
  },
  {
   "cell_type": "code",
   "execution_count": 10,
   "metadata": {},
   "outputs": [
    {
     "name": "stdout",
     "output_type": "stream",
     "text": [
      "Index(['Open', 'High', 'Low', 'Close', 'Adj Close', 'Volume', '0'], dtype='object')\n",
      "testX Y shape is: (2537, 20, 7) (2537, 1)\n"
     ]
    }
   ],
   "source": [
    "y_hat, y_test = PredictWithData(test_data, data_all , name,m, 'stock_model.h5',7)"
   ]
  },
  {
   "cell_type": "code",
   "execution_count": null,
   "metadata": {},
   "outputs": [],
   "source": []
  },
  {
   "cell_type": "code",
   "execution_count": 47,
   "metadata": {},
   "outputs": [
    {
     "name": "stdout",
     "output_type": "stream",
     "text": [
      "MSE: 8656.41531\n",
      "RMSE: 93.03986\n",
      "MAE: 77.72220\n",
      "R2: 0.98888\n"
     ]
    },
    {
     "data": {
      "image/png": "[encoded data removed]",
      "text/plain": [
       "<Figure size 432x288 with 1 Axes>"
      ]
     },
     "metadata": {
      "needs_background": "light"
     },
     "output_type": "display_data"
    }
   ],
   "source": [
    "y_hat = np.array(y_hat, dtype='float64')\n",
    "y_test = np.array(y_test, dtype='float64')\n",
    "evaluation_metric(y_test,y_hat)\n",
    "time = pd.Series(data1.index[21438:])\n",
    "plt.plot(time[22:], y_test, label='True')\n",
    "plt.plot(time[22:], y_hat, label='Prediction')\n",
    "plt.title('Hybrid model prediction')\n",
    "plt.xlabel('Time', fontsize=12, verticalalignment='top')\n",
    "plt.ylabel('Price', fontsize=14, horizontalalignment='center')\n",
    "plt.legend()\n",
    "plt.show()"
   ]
  },
  {
   "cell_type": "code",
   "execution_count": 60,
   "metadata": {},
   "outputs": [
    {
     "data": {
      "text/plain": [
       "2537"
      ]
     },
     "execution_count": 60,
     "metadata": {},
     "output_type": "execute_result"
    }
   ],
   "source": [
    "len(y_test)"
   ]
  },
  {
   "cell_type": "code",
   "execution_count": 61,
   "metadata": {},
   "outputs": [
    {
     "data": {
      "text/plain": [
       "2537"
      ]
     },
     "execution_count": 61,
     "metadata": {},
     "output_type": "execute_result"
    }
   ],
   "source": [
    "len(test_data[:,3].tolist()[21:])"
   ]
  },
  {
   "cell_type": "code",
   "execution_count": 62,
   "metadata": {},
   "outputs": [],
   "source": [
    "predictions = {\n",
    "    'trade_date': test_data[:,3].tolist()[21:],\n",
    "    'close': y_test.tolist(),\n",
    "    'predict':y_hat.tolist()\n",
    "}\n",
    "predictions1 = pd.DataFrame(predictions)\n",
    "predictions1 = predictions1.set_index(['trade_date'], drop=True)\n",
    "predictions1.to_csv('./predict3.csv')"
   ]
  }
 ],
 "metadata": {
  "kernelspec": {
   "display_name": "7409",
   "language": "python",
   "name": "python3"
  },
  "language_info": {
   "codemirror_mode": {
    "name": "ipython",
    "version": 3
   },
   "file_extension": ".py",
   "mimetype": "text/x-python",
   "name": "python",
   "nbconvert_exporter": "python",
   "pygments_lexer": "ipython3",
   "version": "3.6.13"
  },
  "orig_nbformat": 4
 },
 "nbformat": 4,
 "nbformat_minor": 2
}
